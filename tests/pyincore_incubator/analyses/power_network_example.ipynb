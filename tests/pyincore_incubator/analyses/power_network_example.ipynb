{
 "cells": [
  {
   "cell_type": "code",
   "id": "initial_id",
   "metadata": {
    "collapsed": true,
    "ExecuteTime": {
     "end_time": "2024-07-24T14:44:51.763859Z",
     "start_time": "2024-07-24T14:44:47.002658Z"
    }
   },
   "source": [
    "from pyincore import IncoreClient\n",
    "from pyincore_incubator.analyses.electricpowernetworkrecovery import PowerNetworkRecoveryAnalysis\n",
    "import pyincore.globals as pyglobals\n",
    "\n",
    "import warnings\n",
    "warnings.filterwarnings(\"ignore\")\n",
    "\n",
    "from pyincore import IncoreClient, Dataset, DataService, HazardService, FragilityService, MappingSet\n",
    "from pyincore.analyses.epfdamage import EpfDamage\n",
    "from pyincore.analyses.montecarlofailureprobability import MonteCarloFailureProbability"
   ],
   "outputs": [],
   "execution_count": 1
  },
  {
   "metadata": {
    "ExecuteTime": {
     "end_time": "2024-07-24T14:45:03.016344Z",
     "start_time": "2024-07-24T14:44:51.763859Z"
    }
   },
   "cell_type": "code",
   "source": [
    "# client = IncoreClient(pyglobals.INCORE_API_DEV_URL)\n",
    "client = IncoreClient(pyglobals.INCORE_API_PROD_URL)\n",
    "\n",
    "data_service = DataService(client)\n",
    "hazard_service = HazardService(client)\n",
    "fragility_service = FragilityService(client)"
   ],
   "id": "ff2a43b357b93bbd",
   "outputs": [
    {
     "name": "stdout",
     "output_type": "stream",
     "text": [
      "Connection successful to IN-CORE services. pyIncore version detected: 1.19.0\n"
     ]
    }
   ],
   "execution_count": 2
  },
  {
   "metadata": {
    "ExecuteTime": {
     "end_time": "2024-07-24T14:45:03.032553Z",
     "start_time": "2024-07-24T14:45:03.017307Z"
    }
   },
   "cell_type": "code",
   "source": [
    "# Node, edge, building, and pole damage datasets\n",
    "node_dataset_id = \"66912740acbe296a1b8145b3\"\n",
    "edge_dataset_id = \"6690763bacbe296a1b8144b3\"\n",
    "building_dataset_id = \"63ff6b135c35c0353d5ed3ac\"  # Island Only\n",
    "\n",
    "\n",
    "hazard_type = \"hurricane\"\n",
    "# 100yr Hazard Event\n",
    "hazard_id = \"5fa5a9497e5cdf51ebf1add2\"\n",
    "# Number of samples\n",
    "sample_num = 12\n",
    "crew_num = 20"
   ],
   "id": "5face70126554682",
   "outputs": [],
   "execution_count": 3
  },
  {
   "metadata": {
    "ExecuteTime": {
     "end_time": "2024-07-24T14:45:37.129221Z",
     "start_time": "2024-07-24T14:45:03.033639Z"
    }
   },
   "cell_type": "code",
   "source": [
    "# EPF fragility mapping\n",
    "epf_mapping_id = \"62fac92ecef2881193f22613\"\n",
    "epf_mapping_set = MappingSet(fragility_service.get_mapping(epf_mapping_id))\n",
    "\n",
    "epf_dmg_hurricane_galveston = EpfDamage(client)\n",
    "epf_dmg_hurricane_galveston.load_remote_input_dataset(\"epfs\", \"62fc000f88470b319561b58d\")\n",
    "epf_dmg_hurricane_galveston.set_input_dataset('dfr3_mapping_set', epf_mapping_set)\n",
    "epf_dmg_hurricane_galveston.set_parameter(\"result_name\", \"Galveston-hurricane-epf-damage\")\n",
    "epf_dmg_hurricane_galveston.set_parameter(\"fragility_key\", \"Non-Retrofit Fragility ID Code\")\n",
    "epf_dmg_hurricane_galveston.set_parameter(\"hazard_type\", hazard_type)\n",
    "epf_dmg_hurricane_galveston.set_parameter(\"hazard_id\", hazard_id)\n",
    "epf_dmg_hurricane_galveston.set_parameter(\"num_cpu\", 8)\n",
    "\n",
    "# Run Analysis\n",
    "epf_dmg_hurricane_galveston.run_analysis()\n",
    "epf_dmg_result = epf_dmg_hurricane_galveston.get_output_dataset(\"result\")\n",
    "epf_dmg_result_df = epf_dmg_result.get_dataframe_from_csv()\n",
    "epf_dmg_result_df.head()"
   ],
   "id": "4f328a9952cb2db3",
   "outputs": [
    {
     "name": "stdout",
     "output_type": "stream",
     "text": [
      "Dataset already exists locally. Reading from local cached zip.\n",
      "Unzipped folder found in the local cache. Reading from it...\n"
     ]
    },
    {
     "data": {
      "text/plain": [
       "                                   guid  LS_0  LS_1  LS_2  LS_3  DS_0  DS_1  \\\n",
       "0  2525e200-cdc6-4fb8-9952-f17579176fd8   0.0   0.0   0.0   0.0   1.0     0   \n",
       "1  9180f947-26ae-40bd-85f5-83a80525f6c8   0.0   0.0   0.0   0.0   1.0     0   \n",
       "2  11ddc2dc-cc92-4c90-b4cc-a99b92a26f4b   0.0   0.0   0.0   0.0   1.0     0   \n",
       "3  9e58f196-9a2c-40b1-b722-69fa9c53c9d4   0.0   0.0   0.0   0.0   1.0     0   \n",
       "4  a4de2d54-b251-4a02-af0c-d12e0dc3670c   0.0   0.0   0.0   0.0   1.0     0   \n",
       "\n",
       "   DS_2  DS_3 haz_expose  \n",
       "0     0   0.0        yes  \n",
       "1     0   0.0        yes  \n",
       "2     0   0.0        yes  \n",
       "3     0   0.0        yes  \n",
       "4     0   0.0        yes  "
      ],
      "text/html": [
       "<div>\n",
       "<style scoped>\n",
       "    .dataframe tbody tr th:only-of-type {\n",
       "        vertical-align: middle;\n",
       "    }\n",
       "\n",
       "    .dataframe tbody tr th {\n",
       "        vertical-align: top;\n",
       "    }\n",
       "\n",
       "    .dataframe thead th {\n",
       "        text-align: right;\n",
       "    }\n",
       "</style>\n",
       "<table border=\"1\" class=\"dataframe\">\n",
       "  <thead>\n",
       "    <tr style=\"text-align: right;\">\n",
       "      <th></th>\n",
       "      <th>guid</th>\n",
       "      <th>LS_0</th>\n",
       "      <th>LS_1</th>\n",
       "      <th>LS_2</th>\n",
       "      <th>LS_3</th>\n",
       "      <th>DS_0</th>\n",
       "      <th>DS_1</th>\n",
       "      <th>DS_2</th>\n",
       "      <th>DS_3</th>\n",
       "      <th>haz_expose</th>\n",
       "    </tr>\n",
       "  </thead>\n",
       "  <tbody>\n",
       "    <tr>\n",
       "      <th>0</th>\n",
       "      <td>2525e200-cdc6-4fb8-9952-f17579176fd8</td>\n",
       "      <td>0.0</td>\n",
       "      <td>0.0</td>\n",
       "      <td>0.0</td>\n",
       "      <td>0.0</td>\n",
       "      <td>1.0</td>\n",
       "      <td>0</td>\n",
       "      <td>0</td>\n",
       "      <td>0.0</td>\n",
       "      <td>yes</td>\n",
       "    </tr>\n",
       "    <tr>\n",
       "      <th>1</th>\n",
       "      <td>9180f947-26ae-40bd-85f5-83a80525f6c8</td>\n",
       "      <td>0.0</td>\n",
       "      <td>0.0</td>\n",
       "      <td>0.0</td>\n",
       "      <td>0.0</td>\n",
       "      <td>1.0</td>\n",
       "      <td>0</td>\n",
       "      <td>0</td>\n",
       "      <td>0.0</td>\n",
       "      <td>yes</td>\n",
       "    </tr>\n",
       "    <tr>\n",
       "      <th>2</th>\n",
       "      <td>11ddc2dc-cc92-4c90-b4cc-a99b92a26f4b</td>\n",
       "      <td>0.0</td>\n",
       "      <td>0.0</td>\n",
       "      <td>0.0</td>\n",
       "      <td>0.0</td>\n",
       "      <td>1.0</td>\n",
       "      <td>0</td>\n",
       "      <td>0</td>\n",
       "      <td>0.0</td>\n",
       "      <td>yes</td>\n",
       "    </tr>\n",
       "    <tr>\n",
       "      <th>3</th>\n",
       "      <td>9e58f196-9a2c-40b1-b722-69fa9c53c9d4</td>\n",
       "      <td>0.0</td>\n",
       "      <td>0.0</td>\n",
       "      <td>0.0</td>\n",
       "      <td>0.0</td>\n",
       "      <td>1.0</td>\n",
       "      <td>0</td>\n",
       "      <td>0</td>\n",
       "      <td>0.0</td>\n",
       "      <td>yes</td>\n",
       "    </tr>\n",
       "    <tr>\n",
       "      <th>4</th>\n",
       "      <td>a4de2d54-b251-4a02-af0c-d12e0dc3670c</td>\n",
       "      <td>0.0</td>\n",
       "      <td>0.0</td>\n",
       "      <td>0.0</td>\n",
       "      <td>0.0</td>\n",
       "      <td>1.0</td>\n",
       "      <td>0</td>\n",
       "      <td>0</td>\n",
       "      <td>0.0</td>\n",
       "      <td>yes</td>\n",
       "    </tr>\n",
       "  </tbody>\n",
       "</table>\n",
       "</div>"
      ]
     },
     "execution_count": 4,
     "metadata": {},
     "output_type": "execute_result"
    }
   ],
   "execution_count": 4
  },
  {
   "metadata": {
    "ExecuteTime": {
     "end_time": "2024-07-24T14:45:39.782339Z",
     "start_time": "2024-07-24T14:45:37.129221Z"
    }
   },
   "cell_type": "code",
   "source": [
    "mc = MonteCarloFailureProbability(client)\n",
    "mc.set_input_dataset(\"damage\", epf_dmg_result)\n",
    "mc.set_parameter(\"result_name\", \"epf_mc\")\n",
    "mc.set_parameter(\"num_cpu\", 8)\n",
    "mc.set_parameter(\"num_samples\", sample_num)\n",
    "mc.set_parameter(\"damage_interval_keys\", [\"DS_0\", \"DS_1\", \"DS_2\", \"DS_3\"])\n",
    "mc.set_parameter(\"failure_state_keys\", [\"DS_1\", \"DS_2\", \"DS_3\"])\n",
    "mc.run_analysis()\n",
    "\n",
    "gal_pole_damage_mcs_samples = mc.get_output_dataset('sample_failure_state')\n",
    "gal_pole_damage_mcs_samples_df = gal_pole_damage_mcs_samples.get_dataframe_from_csv()\n",
    "gal_pole_damage_mcs_samples_df.head()"
   ],
   "id": "99800ec89435bbd2",
   "outputs": [
    {
     "data": {
      "text/plain": [
       "                                   guid                  failure\n",
       "0  2525e200-cdc6-4fb8-9952-f17579176fd8  1,1,1,1,1,1,1,1,1,1,1,1\n",
       "1  9180f947-26ae-40bd-85f5-83a80525f6c8  1,1,1,1,1,1,1,1,1,1,1,1\n",
       "2  11ddc2dc-cc92-4c90-b4cc-a99b92a26f4b  1,1,1,1,1,1,1,1,1,1,1,1\n",
       "3  9e58f196-9a2c-40b1-b722-69fa9c53c9d4  1,1,1,1,1,1,1,1,1,1,1,1\n",
       "4  a4de2d54-b251-4a02-af0c-d12e0dc3670c  1,1,1,1,1,1,1,1,1,1,1,1"
      ],
      "text/html": [
       "<div>\n",
       "<style scoped>\n",
       "    .dataframe tbody tr th:only-of-type {\n",
       "        vertical-align: middle;\n",
       "    }\n",
       "\n",
       "    .dataframe tbody tr th {\n",
       "        vertical-align: top;\n",
       "    }\n",
       "\n",
       "    .dataframe thead th {\n",
       "        text-align: right;\n",
       "    }\n",
       "</style>\n",
       "<table border=\"1\" class=\"dataframe\">\n",
       "  <thead>\n",
       "    <tr style=\"text-align: right;\">\n",
       "      <th></th>\n",
       "      <th>guid</th>\n",
       "      <th>failure</th>\n",
       "    </tr>\n",
       "  </thead>\n",
       "  <tbody>\n",
       "    <tr>\n",
       "      <th>0</th>\n",
       "      <td>2525e200-cdc6-4fb8-9952-f17579176fd8</td>\n",
       "      <td>1,1,1,1,1,1,1,1,1,1,1,1</td>\n",
       "    </tr>\n",
       "    <tr>\n",
       "      <th>1</th>\n",
       "      <td>9180f947-26ae-40bd-85f5-83a80525f6c8</td>\n",
       "      <td>1,1,1,1,1,1,1,1,1,1,1,1</td>\n",
       "    </tr>\n",
       "    <tr>\n",
       "      <th>2</th>\n",
       "      <td>11ddc2dc-cc92-4c90-b4cc-a99b92a26f4b</td>\n",
       "      <td>1,1,1,1,1,1,1,1,1,1,1,1</td>\n",
       "    </tr>\n",
       "    <tr>\n",
       "      <th>3</th>\n",
       "      <td>9e58f196-9a2c-40b1-b722-69fa9c53c9d4</td>\n",
       "      <td>1,1,1,1,1,1,1,1,1,1,1,1</td>\n",
       "    </tr>\n",
       "    <tr>\n",
       "      <th>4</th>\n",
       "      <td>a4de2d54-b251-4a02-af0c-d12e0dc3670c</td>\n",
       "      <td>1,1,1,1,1,1,1,1,1,1,1,1</td>\n",
       "    </tr>\n",
       "  </tbody>\n",
       "</table>\n",
       "</div>"
      ]
     },
     "execution_count": 5,
     "metadata": {},
     "output_type": "execute_result"
    }
   ],
   "execution_count": 5
  },
  {
   "metadata": {
    "ExecuteTime": {
     "end_time": "2024-07-24T14:46:09.855304Z",
     "start_time": "2024-07-24T14:45:39.782339Z"
    }
   },
   "cell_type": "code",
   "source": [
    "power_recovery_analysis = PowerNetworkRecoveryAnalysis(client)\n",
    "\n",
    "power_recovery_analysis.load_remote_input_dataset(\"nodes\", node_dataset_id)\n",
    "power_recovery_analysis.load_remote_input_dataset(\"edges\", edge_dataset_id)\n",
    "power_recovery_analysis.load_remote_input_dataset(\"buildings\", building_dataset_id)\n",
    "power_recovery_analysis.set_input_dataset(\"pole_damage\", gal_pole_damage_mcs_samples)\n",
    "power_recovery_analysis.set_parameter(\"result_name\", \"power_analysis_output\")\n",
    "power_recovery_analysis.set_parameter(\"num_thread\", 8)\n",
    "power_recovery_analysis.set_parameter(\"num_samples\", sample_num)\n",
    "power_recovery_analysis.set_parameter(\"num_crews\", crew_num)\n",
    "power_recovery_analysis.set_parameter(\"time_step\", 7)\n",
    "power_recovery_analysis.set_parameter(\"consider_protective_devices\", False)\n",
    "\n",
    "# Run Analysis\n",
    "power_recovery_analysis.run_analysis()\n",
    "\n",
    "# Get outputs\n",
    "power_test_result = power_recovery_analysis.get_output_dataset('result')\n",
    "power_test_result_df = power_test_result.get_dataframe_from_csv()\n",
    "power_test_result_df.head()"
   ],
   "id": "56f844016225f0a1",
   "outputs": [
    {
     "name": "stdout",
     "output_type": "stream",
     "text": [
      "Dataset already exists locally. Reading from local cached zip.\n",
      "Unzipped folder found in the local cache. Reading from it...\n",
      "Dataset already exists locally. Reading from local cached zip.\n",
      "Unzipped folder found in the local cache. Reading from it...\n",
      "Dataset already exists locally. Reading from local cached zip.\n",
      "Unzipped folder found in the local cache. Reading from it...\n"
     ]
    },
    {
     "data": {
      "text/plain": [
       "                                   guid  average_power_back_time\n",
       "0  f3a21b5f-0334-4d77-911f-faa9a45c92d7                 0.000000\n",
       "1  80ab0289-8c72-4699-b12b-08ef2f2a5c91                 9.333333\n",
       "2  7916eaa8-0bfa-4b32-84ff-20f19a520f5c                 4.083333\n",
       "3  79008971-a534-4e45-9e40-43a2a904e59b                15.166667\n",
       "4  2ad8ab6f-057f-468e-9911-6e92d9d4d01f                 7.000000"
      ],
      "text/html": [
       "<div>\n",
       "<style scoped>\n",
       "    .dataframe tbody tr th:only-of-type {\n",
       "        vertical-align: middle;\n",
       "    }\n",
       "\n",
       "    .dataframe tbody tr th {\n",
       "        vertical-align: top;\n",
       "    }\n",
       "\n",
       "    .dataframe thead th {\n",
       "        text-align: right;\n",
       "    }\n",
       "</style>\n",
       "<table border=\"1\" class=\"dataframe\">\n",
       "  <thead>\n",
       "    <tr style=\"text-align: right;\">\n",
       "      <th></th>\n",
       "      <th>guid</th>\n",
       "      <th>average_power_back_time</th>\n",
       "    </tr>\n",
       "  </thead>\n",
       "  <tbody>\n",
       "    <tr>\n",
       "      <th>0</th>\n",
       "      <td>f3a21b5f-0334-4d77-911f-faa9a45c92d7</td>\n",
       "      <td>0.000000</td>\n",
       "    </tr>\n",
       "    <tr>\n",
       "      <th>1</th>\n",
       "      <td>80ab0289-8c72-4699-b12b-08ef2f2a5c91</td>\n",
       "      <td>9.333333</td>\n",
       "    </tr>\n",
       "    <tr>\n",
       "      <th>2</th>\n",
       "      <td>7916eaa8-0bfa-4b32-84ff-20f19a520f5c</td>\n",
       "      <td>4.083333</td>\n",
       "    </tr>\n",
       "    <tr>\n",
       "      <th>3</th>\n",
       "      <td>79008971-a534-4e45-9e40-43a2a904e59b</td>\n",
       "      <td>15.166667</td>\n",
       "    </tr>\n",
       "    <tr>\n",
       "      <th>4</th>\n",
       "      <td>2ad8ab6f-057f-468e-9911-6e92d9d4d01f</td>\n",
       "      <td>7.000000</td>\n",
       "    </tr>\n",
       "  </tbody>\n",
       "</table>\n",
       "</div>"
      ]
     },
     "execution_count": 6,
     "metadata": {},
     "output_type": "execute_result"
    }
   ],
   "execution_count": 6
  }
 ],
 "metadata": {
  "kernelspec": {
   "display_name": "Python 3",
   "language": "python",
   "name": "python3"
  },
  "language_info": {
   "codemirror_mode": {
    "name": "ipython",
    "version": 2
   },
   "file_extension": ".py",
   "mimetype": "text/x-python",
   "name": "python",
   "nbconvert_exporter": "python",
   "pygments_lexer": "ipython2",
   "version": "2.7.6"
  }
 },
 "nbformat": 4,
 "nbformat_minor": 5
}
